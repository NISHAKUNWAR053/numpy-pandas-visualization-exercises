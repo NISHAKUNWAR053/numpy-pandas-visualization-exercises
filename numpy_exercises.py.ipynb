{
 "cells": [
  {
   "cell_type": "markdown",
   "id": "67e4d459",
   "metadata": {},
   "source": [
    "Use the following code for the questions below:\n",
    "\n",
    "\n",
    "a = np.array([4, 10, 12, 23, -2, -1, 0, 0, 0, -6, 3, -7])\n"
   ]
  },
  {
   "cell_type": "markdown",
   "id": "8776dbae",
   "metadata": {},
   "source": [
    "1. How many negative numbers are there?"
   ]
  },
  {
   "cell_type": "code",
   "execution_count": 123,
   "id": "4df8bb79",
   "metadata": {},
   "outputs": [],
   "source": [
    "import numpy as np\n",
    "a = np.array([4, 10, 12, 23, -2, -1, 0, 0, 0, -6, 3, -7])"
   ]
  },
  {
   "cell_type": "code",
   "execution_count": 6,
   "id": "11bf4bbf",
   "metadata": {},
   "outputs": [
    {
     "data": {
      "text/plain": [
       "4"
      ]
     },
     "execution_count": 6,
     "metadata": {},
     "output_type": "execute_result"
    }
   ],
   "source": [
    "negative_count = np.sum(a < 0)\n",
    "negative_count"
   ]
  },
  {
   "cell_type": "markdown",
   "id": "e3196a7e",
   "metadata": {},
   "source": [
    "2. How many positive numbers are there?\n",
    "\n"
   ]
  },
  {
   "cell_type": "code",
   "execution_count": 124,
   "id": "7c893469",
   "metadata": {},
   "outputs": [
    {
     "data": {
      "text/plain": [
       "5"
      ]
     },
     "execution_count": 124,
     "metadata": {},
     "output_type": "execute_result"
    }
   ],
   "source": [
    "np.sum(a > 0)\n"
   ]
  },
  {
   "cell_type": "markdown",
   "id": "bafa2de4",
   "metadata": {},
   "source": [
    "3. How many even positive numbers are there?"
   ]
  },
  {
   "cell_type": "code",
   "execution_count": 9,
   "id": "3de6c12a",
   "metadata": {},
   "outputs": [
    {
     "data": {
      "text/plain": [
       "3"
      ]
     },
     "execution_count": 9,
     "metadata": {},
     "output_type": "execute_result"
    }
   ],
   "source": [
    "even_positive_number = np.sum((a > 0) & (a % 2 == 0))\n",
    "#(a % 2 == 0) creates a Boolean array that checks if each element of a is both positive and even\n",
    "even_positive_number"
   ]
  },
  {
   "cell_type": "markdown",
   "id": "1a45638c",
   "metadata": {},
   "source": [
    "4. If you were to add 3 to each data point, how many positive numbers would there be?"
   ]
  },
  {
   "cell_type": "code",
   "execution_count": 10,
   "id": "13d2c142",
   "metadata": {},
   "outputs": [
    {
     "data": {
      "text/plain": [
       "10"
      ]
     },
     "execution_count": 10,
     "metadata": {},
     "output_type": "execute_result"
    }
   ],
   "source": [
    "a_shifted = a + 3\n",
    "positive_number = np.sum(a_shifted > 0)\n",
    "positive_number"
   ]
  },
  {
   "cell_type": "markdown",
   "id": "b1327e69",
   "metadata": {},
   "source": [
    "5. If you squared each number, what would the new mean and standard deviation be?"
   ]
  },
  {
   "cell_type": "code",
   "execution_count": 126,
   "id": "8cd75b9a",
   "metadata": {},
   "outputs": [
    {
     "data": {
      "text/plain": [
       "array([ 16, 100, 144, 529,   4,   1,   0,   0,   0,  36,   9,  49])"
      ]
     },
     "execution_count": 126,
     "metadata": {},
     "output_type": "execute_result"
    }
   ],
   "source": [
    "a_squared = a ** 2\n",
    "a_squared"
   ]
  },
  {
   "cell_type": "code",
   "execution_count": 29,
   "id": "3edc6770",
   "metadata": {},
   "outputs": [
    {
     "data": {
      "text/plain": [
       "74.0"
      ]
     },
     "execution_count": 29,
     "metadata": {},
     "output_type": "execute_result"
    }
   ],
   "source": [
    "Updated_mean = np.mean(a_squared)\n",
    "Updated_mean"
   ]
  },
  {
   "cell_type": "code",
   "execution_count": 31,
   "id": "5ffd8ae6",
   "metadata": {},
   "outputs": [
    {
     "data": {
      "text/plain": [
       "144.0243035046516"
      ]
     },
     "execution_count": 31,
     "metadata": {},
     "output_type": "execute_result"
    }
   ],
   "source": [
    "updated_stddev = np.std(a_squared)\n",
    "updated_stddev"
   ]
  },
  {
   "cell_type": "markdown",
   "id": "66f6f320",
   "metadata": {},
   "source": [
    "6. A common statistical operation on a dataset is centering. This means to adjust the data such that the mean of the data is 0. This is done by subtracting the mean from each data point. Center the data set. See this link for more on centering."
   ]
  },
  {
   "cell_type": "code",
   "execution_count": 34,
   "id": "a9e09001",
   "metadata": {},
   "outputs": [
    {
     "data": {
      "text/plain": [
       "array([  1.,   7.,   9.,  20.,  -5.,  -4.,  -3.,  -3.,  -3.,  -9.,   0.,\n",
       "       -10.])"
      ]
     },
     "execution_count": 34,
     "metadata": {},
     "output_type": "execute_result"
    }
   ],
   "source": [
    "centered_data = a - np.mean(a)\n",
    "centered_data"
   ]
  },
  {
   "cell_type": "markdown",
   "id": "cc4180b7",
   "metadata": {},
   "source": [
    "7. Calculate the z-score for each data point. Recall that the z-score is given by:\n",
    "\n",
    "Z= x−μ/σ\n",
    "\n",
    "#The code (a - np.mean(a)) / np.std(a) subtracts the mean of a from each element of a and then divides the result by the standard deviation of a, resulting in an array of z-scores.\n",
    "\n"
   ]
  },
  {
   "cell_type": "code",
   "execution_count": 35,
   "id": "243ac08b",
   "metadata": {},
   "outputs": [
    {
     "data": {
      "text/plain": [
       "array([  1.,   7.,   9.,  20.,  -5.,  -4.,  -3.,  -3.,  -3.,  -9.,   0.,\n",
       "       -10.])"
      ]
     },
     "execution_count": 35,
     "metadata": {},
     "output_type": "execute_result"
    }
   ],
   "source": [
    "a - np.mean(a)"
   ]
  },
  {
   "cell_type": "code",
   "execution_count": 36,
   "id": "4e4aa18e",
   "metadata": {},
   "outputs": [
    {
     "data": {
      "text/plain": [
       "8.06225774829855"
      ]
     },
     "execution_count": 36,
     "metadata": {},
     "output_type": "execute_result"
    }
   ],
   "source": [
    "np.std(a)"
   ]
  },
  {
   "cell_type": "code",
   "execution_count": 38,
   "id": "b4c760cd",
   "metadata": {},
   "outputs": [
    {
     "data": {
      "text/plain": [
       "array([ 3.6278958,  9.6278958, 11.6278958, 22.6278958, -2.3721042,\n",
       "       -1.3721042, -0.3721042, -0.3721042, -0.3721042, -6.3721042,\n",
       "        2.6278958, -7.3721042])"
      ]
     },
     "execution_count": 38,
     "metadata": {},
     "output_type": "execute_result"
    }
   ],
   "source": [
    "z_score = a-np.mean(a)/np.std(a)\n",
    "z_score\n"
   ]
  },
  {
   "cell_type": "markdown",
   "id": "7a28477a",
   "metadata": {},
   "source": [
    "Copy the setup and exercise directions from More Numpy Practice into your numpy_exercises.py and add your solutions.\n",
    "\n",
    "a = [1, 2, 3, 4, 5, 6, 7, 8, 9, 10]\n",
    "\n",
    "Exercise 1 - Make a variable called sum_of_a to hold the sum of all the numbers in above list\n"
   ]
  },
  {
   "cell_type": "code",
   "execution_count": 1,
   "id": "86cc3199",
   "metadata": {},
   "outputs": [],
   "source": [
    "import numpy as np\n",
    "a = [1, 2, 3, 4, 5, 6, 7, 8, 9, 10]"
   ]
  },
  {
   "cell_type": "code",
   "execution_count": 3,
   "id": "a82ed40f",
   "metadata": {},
   "outputs": [
    {
     "data": {
      "text/plain": [
       "55"
      ]
     },
     "execution_count": 3,
     "metadata": {},
     "output_type": "execute_result"
    }
   ],
   "source": [
    "sum_of_a = sum(a)\n",
    "sum_of_a"
   ]
  },
  {
   "cell_type": "markdown",
   "id": "83934bb5",
   "metadata": {},
   "source": [
    "#Exercise 2 - Make a variable named min_of_a to hold the minimum of all the numbers in the above list\n"
   ]
  },
  {
   "cell_type": "code",
   "execution_count": 4,
   "id": "a369443e",
   "metadata": {},
   "outputs": [
    {
     "data": {
      "text/plain": [
       "1"
      ]
     },
     "execution_count": 4,
     "metadata": {},
     "output_type": "execute_result"
    }
   ],
   "source": [
    "min_of_a = min(a)\n",
    "min_of_a"
   ]
  },
  {
   "cell_type": "markdown",
   "id": "ab85f8e4",
   "metadata": {},
   "source": [
    "#Exercise 3 - Make a variable named max_of_a to hold the max number of all the numbers in the above list\n"
   ]
  },
  {
   "cell_type": "code",
   "execution_count": 5,
   "id": "b26ca079",
   "metadata": {},
   "outputs": [
    {
     "data": {
      "text/plain": [
       "10"
      ]
     },
     "execution_count": 5,
     "metadata": {},
     "output_type": "execute_result"
    }
   ],
   "source": [
    "max_of_a = max(a)\n",
    "max_of_a"
   ]
  },
  {
   "cell_type": "markdown",
   "id": "a5bf73b5",
   "metadata": {},
   "source": [
    "#Exercise 4 - Make a variable named mean_of_a to hold the average of all the numbers in the above list\n"
   ]
  },
  {
   "cell_type": "code",
   "execution_count": 7,
   "id": "8ef125ea",
   "metadata": {},
   "outputs": [
    {
     "data": {
      "text/plain": [
       "5.5"
      ]
     },
     "execution_count": 7,
     "metadata": {},
     "output_type": "execute_result"
    }
   ],
   "source": [
    "mean_of_a = np.mean(a)\n",
    "mean_of_a"
   ]
  },
  {
   "cell_type": "markdown",
   "id": "4da63cbf",
   "metadata": {},
   "source": [
    "#Exercise 5 - Make a variable named product_of_a to hold the product of multiplying all the numbers in the above list together\n"
   ]
  },
  {
   "cell_type": "code",
   "execution_count": 8,
   "id": "ded12c7a",
   "metadata": {},
   "outputs": [
    {
     "data": {
      "text/plain": [
       "3628800"
      ]
     },
     "execution_count": 8,
     "metadata": {},
     "output_type": "execute_result"
    }
   ],
   "source": [
    "product_of_a = np.prod(a)\n",
    "product_of_a"
   ]
  },
  {
   "cell_type": "markdown",
   "id": "81d16276",
   "metadata": {},
   "source": [
    "#Exercise 6 - Make a variable named squares_of_a. It should hold each number in a squared like [1, 4, 9, 16, 25...]\n"
   ]
  },
  {
   "cell_type": "code",
   "execution_count": 20,
   "id": "8fdb4a8b",
   "metadata": {},
   "outputs": [
    {
     "data": {
      "text/plain": [
       "[1, 4, 9, 16, 25, 36, 49, 64, 81, 100]"
      ]
     },
     "execution_count": 20,
     "metadata": {},
     "output_type": "execute_result"
    }
   ],
   "source": [
    "squares_of_a = [num ** 2 for num in a]\n",
    "squares_of_a"
   ]
  },
  {
   "cell_type": "markdown",
   "id": "0058145e",
   "metadata": {},
   "source": [
    "#Exercise 7 - Make a variable named odds_in_a. It should hold only the odd numbers\n"
   ]
  },
  {
   "cell_type": "code",
   "execution_count": 25,
   "id": "8694c2a9",
   "metadata": {},
   "outputs": [
    {
     "data": {
      "text/plain": [
       "[1, 3, 5, 7, 9]"
      ]
     },
     "execution_count": 25,
     "metadata": {},
     "output_type": "execute_result"
    }
   ],
   "source": [
    "odds_in_a = [num for num in a if num % 2 != 0]\n",
    "odds_in_a"
   ]
  },
  {
   "cell_type": "markdown",
   "id": "edfbd4df",
   "metadata": {},
   "source": [
    "#Exercise 8 - Make a variable named evens_in_a. It should hold only the evens.\n"
   ]
  },
  {
   "cell_type": "code",
   "execution_count": 26,
   "id": "03f7f1fc",
   "metadata": {},
   "outputs": [
    {
     "data": {
      "text/plain": [
       "[2, 4, 6, 8, 10]"
      ]
     },
     "execution_count": 26,
     "metadata": {},
     "output_type": "execute_result"
    }
   ],
   "source": [
    "evens_in_a = [num for num in a if num % 2 == 0]\n",
    "evens_in_a"
   ]
  },
  {
   "cell_type": "markdown",
   "id": "9ad7ce2c",
   "metadata": {},
   "source": [
    "#What about life in two dimensions? A list of lists is matrix, a table, a spreadsheet, a chessboard...\n",
    "\n",
    "b = [\n",
    "    [3, 4, 5],\n",
    "    [6, 7, 8]\n",
    "]\n"
   ]
  },
  {
   "cell_type": "code",
   "execution_count": 31,
   "id": "d9e179a2",
   "metadata": {},
   "outputs": [],
   "source": [
    "import numpy as np\n",
    "b = [\n",
    "    [3, 4, 5],\n",
    "    [6, 7, 8]\n",
    "]"
   ]
  },
  {
   "cell_type": "markdown",
   "id": "b5b20328",
   "metadata": {},
   "source": [
    "#Exercise 1 - refactor the following to use numpy. Use sum_of_b as the variable. **Hint, you'll first need to make sure that the \"b\" variable is a numpy array**\n",
    "\n",
    "sum_of_b = 0\n",
    "for row in b:\n",
    "    sum_of_b += sum(row)"
   ]
  },
  {
   "cell_type": "code",
   "execution_count": null,
   "id": "ce723bb1",
   "metadata": {},
   "outputs": [],
   "source": [
    "# Convert b to a NumPy array"
   ]
  },
  {
   "cell_type": "code",
   "execution_count": 33,
   "id": "e00d5a90",
   "metadata": {},
   "outputs": [
    {
     "data": {
      "text/plain": [
       "array([[3, 4, 5],\n",
       "       [6, 7, 8]])"
      ]
     },
     "execution_count": 33,
     "metadata": {},
     "output_type": "execute_result"
    }
   ],
   "source": [
    "b = np.array(b)\n",
    "b"
   ]
  },
  {
   "cell_type": "code",
   "execution_count": 36,
   "id": "7325257c",
   "metadata": {},
   "outputs": [
    {
     "data": {
      "text/plain": [
       "33"
      ]
     },
     "execution_count": 36,
     "metadata": {},
     "output_type": "execute_result"
    }
   ],
   "source": [
    "import numpy as np\n",
    "\n",
    "b = np.array(b) \n",
    "sum_of_b = np.sum(b)  # Calculate the sum of all elements in b\n",
    "sum_of_b"
   ]
  },
  {
   "cell_type": "markdown",
   "id": "56bc00b7",
   "metadata": {},
   "source": [
    "Exercise 2 - refactor the following to use numpy. \n",
    "\n",
    "min_of_b = min(b[0]) if min(b[0]) <= min(b[1]) else min(b[1])  "
   ]
  },
  {
   "cell_type": "code",
   "execution_count": 47,
   "id": "12a9511e",
   "metadata": {},
   "outputs": [
    {
     "data": {
      "text/plain": [
       "3"
      ]
     },
     "execution_count": 47,
     "metadata": {},
     "output_type": "execute_result"
    }
   ],
   "source": [
    "min_of_b = np.min(b[:2])\n",
    "min_of_b"
   ]
  },
  {
   "cell_type": "code",
   "execution_count": 44,
   "id": "97cca78e",
   "metadata": {},
   "outputs": [],
   "source": [
    "# Exercise 3 - refactor the following maximum calculation to find the answer with numpy.\n",
    "max_of_b = max(b[0]) if max(b[0]) >= max(b[1]) else max(b[1])\n",
    "\n"
   ]
  },
  {
   "cell_type": "code",
   "execution_count": 128,
   "id": "370551b0",
   "metadata": {},
   "outputs": [
    {
     "name": "stdout",
     "output_type": "stream",
     "text": [
      "8\n"
     ]
    }
   ],
   "source": [
    "print(max_of_b)"
   ]
  },
  {
   "cell_type": "markdown",
   "id": "77af5b6a",
   "metadata": {},
   "source": [
    "Exercise 4 - refactor the following using numpy to find the mean of b\n",
    "mean_of_b = (sum(b[0]) + sum(b[1])) / (len(b[0]) + len(b[1]))"
   ]
  },
  {
   "cell_type": "code",
   "execution_count": 127,
   "id": "ba83e046",
   "metadata": {},
   "outputs": [
    {
     "name": "stdout",
     "output_type": "stream",
     "text": [
      "5.5\n"
     ]
    }
   ],
   "source": [
    "print(mean_of_b)"
   ]
  },
  {
   "cell_type": "markdown",
   "id": "9641b2f4",
   "metadata": {},
   "source": [
    "Exercise 5 - refactor the following to use numpy for calculating the product of all numbers multiplied together.\n",
    "\n",
    "product_of_b = 1\n",
    "for row in b:\n",
    "    for number in row:\n",
    "        product_of_b *= number"
   ]
  },
  {
   "cell_type": "code",
   "execution_count": 49,
   "id": "42ecc328",
   "metadata": {},
   "outputs": [
    {
     "data": {
      "text/plain": [
       "20160"
      ]
     },
     "execution_count": 49,
     "metadata": {},
     "output_type": "execute_result"
    }
   ],
   "source": [
    "product_of_b = np.prod(b)\n",
    "product_of_b"
   ]
  },
  {
   "cell_type": "markdown",
   "id": "68ff82c7",
   "metadata": {},
   "source": [
    "Exercise 6 - refactor the following to use numpy to find the list of squares \n",
    "\n",
    "squares_of_b = []\n",
    "for row in b:\n",
    "    for number in row:\n",
    "        squares_of_b.append(number**2)\n"
   ]
  },
  {
   "cell_type": "code",
   "execution_count": 131,
   "id": "e2972f83",
   "metadata": {},
   "outputs": [
    {
     "data": {
      "text/plain": [
       "[[9, 16, 25], [36, 49, 64]]"
      ]
     },
     "execution_count": 131,
     "metadata": {},
     "output_type": "execute_result"
    }
   ],
   "source": [
    "squares_of_b = np.square(b).tolist()\n",
    "squares_of_b"
   ]
  },
  {
   "cell_type": "code",
   "execution_count": 130,
   "id": "6013b0bf",
   "metadata": {},
   "outputs": [
    {
     "data": {
      "text/plain": [
       "[[9, 16, 25], [36, 49, 64]]"
      ]
     },
     "execution_count": 130,
     "metadata": {},
     "output_type": "execute_result"
    }
   ],
   "source": [
    "squares_of_b"
   ]
  },
  {
   "cell_type": "code",
   "execution_count": null,
   "id": "e0899378",
   "metadata": {},
   "outputs": [],
   "source": []
  },
  {
   "cell_type": "markdown",
   "id": "fc6ea473",
   "metadata": {},
   "source": [
    "Exercise 7 - refactor using numpy to determine the odds_in_b\n",
    "\n",
    "odds_in_b = []\n",
    "for row in b:\n",
    "    for number in row:\n",
    "        if(number % 2 != 0):\n",
    "            odds_in_b.append(number)\n"
   ]
  },
  {
   "cell_type": "code",
   "execution_count": 63,
   "id": "b4ccb784",
   "metadata": {},
   "outputs": [
    {
     "data": {
      "text/plain": [
       "[3, 5, 7]"
      ]
     },
     "execution_count": 63,
     "metadata": {},
     "output_type": "execute_result"
    }
   ],
   "source": [
    "odds_in_b = np.extract(b % 2 != 0, b).tolist()\n",
    "odds_in_b"
   ]
  },
  {
   "cell_type": "markdown",
   "id": "4e25e909",
   "metadata": {},
   "source": [
    "#Exercise 8 - refactor the following to use numpy to filter only the even numbers\n",
    "\n",
    "evens_in_b = []\n",
    "for row in b:\n",
    "    for number in row:\n",
    "        if(number % 2 == 0):\n",
    "            evens_in_b.append(number)"
   ]
  },
  {
   "cell_type": "code",
   "execution_count": 64,
   "id": "519dc414",
   "metadata": {},
   "outputs": [
    {
     "data": {
      "text/plain": [
       "[4, 6, 8]"
      ]
     },
     "execution_count": 64,
     "metadata": {},
     "output_type": "execute_result"
    }
   ],
   "source": [
    "evens_in_b = np.extract( b % 2 == 0, b).tolist()\n",
    "evens_in_b"
   ]
  },
  {
   "cell_type": "markdown",
   "id": "55f24150",
   "metadata": {},
   "source": [
    "Exercise 9 - print out the shape of the array b."
   ]
  },
  {
   "cell_type": "code",
   "execution_count": 66,
   "id": "3987fe71",
   "metadata": {},
   "outputs": [
    {
     "data": {
      "text/plain": [
       "(2, 3)"
      ]
     },
     "execution_count": 66,
     "metadata": {},
     "output_type": "execute_result"
    }
   ],
   "source": [
    "b = np.array(b) \n",
    "b.shape"
   ]
  },
  {
   "cell_type": "markdown",
   "id": "482d8209",
   "metadata": {},
   "source": [
    "Exercise 10 - transpose the array b."
   ]
  },
  {
   "cell_type": "code",
   "execution_count": 67,
   "id": "11ac20f4",
   "metadata": {},
   "outputs": [
    {
     "data": {
      "text/plain": [
       "array([[3, 6],\n",
       "       [4, 7],\n",
       "       [5, 8]])"
      ]
     },
     "execution_count": 67,
     "metadata": {},
     "output_type": "execute_result"
    }
   ],
   "source": [
    "b_transpose = np.transpose(b)\n",
    "b_transpose"
   ]
  },
  {
   "cell_type": "markdown",
   "id": "4156f1eb",
   "metadata": {},
   "source": [
    " Exercise 11 - reshape the array b to be a single list of 6 numbers. (1 x 6)"
   ]
  },
  {
   "cell_type": "code",
   "execution_count": 71,
   "id": "add7f5a4",
   "metadata": {},
   "outputs": [
    {
     "data": {
      "text/plain": [
       "array([[3, 4, 5, 6, 7, 8]])"
      ]
     },
     "execution_count": 71,
     "metadata": {},
     "output_type": "execute_result"
    }
   ],
   "source": [
    "b_reshaped = b.reshape(1, 6)\n",
    "b_reshaped"
   ]
  },
  {
   "cell_type": "markdown",
   "id": "a206b39d",
   "metadata": {},
   "source": [
    "#Exercise 12 - reshape the array b to be a list of 6 lists, each containing only 1 number (6 x 1)\n"
   ]
  },
  {
   "cell_type": "code",
   "execution_count": 73,
   "id": "6f34a322",
   "metadata": {},
   "outputs": [
    {
     "data": {
      "text/plain": [
       "[[3], [4], [5], [6], [7], [8]]"
      ]
     },
     "execution_count": 73,
     "metadata": {},
     "output_type": "execute_result"
    }
   ],
   "source": [
    "b_reshaped = b.reshape(6,1).tolist()\n",
    "b_reshaped"
   ]
  },
  {
   "cell_type": "markdown",
   "id": "56fff144",
   "metadata": {},
   "source": [
    "## Setup 3\n",
    "c = [\n",
    "    [1, 2, 3],\n",
    "    [4, 5, 6],\n",
    "    [7, 8, 9]\n",
    "]"
   ]
  },
  {
   "cell_type": "code",
   "execution_count": 75,
   "id": "a3c7c2ee",
   "metadata": {},
   "outputs": [],
   "source": [
    "import numpy as np\n",
    "c = [\n",
    "    [1, 2, 3],\n",
    "    [4, 5, 6],\n",
    "    [7, 8, 9]\n",
    "]"
   ]
  },
  {
   "cell_type": "markdown",
   "id": "91c75112",
   "metadata": {},
   "source": [
    "#Exercise 1 - Find the min, max, sum, and product of c.\n"
   ]
  },
  {
   "cell_type": "code",
   "execution_count": 78,
   "id": "487254b3",
   "metadata": {},
   "outputs": [
    {
     "data": {
      "text/plain": [
       "1"
      ]
     },
     "execution_count": 78,
     "metadata": {},
     "output_type": "execute_result"
    }
   ],
   "source": [
    "min_of_c = np.min(c)\n",
    "min_of_c"
   ]
  },
  {
   "cell_type": "code",
   "execution_count": 79,
   "id": "a162df0a",
   "metadata": {},
   "outputs": [
    {
     "data": {
      "text/plain": [
       "9"
      ]
     },
     "execution_count": 79,
     "metadata": {},
     "output_type": "execute_result"
    }
   ],
   "source": [
    "max_of_c = np.max(c)\n",
    "max_of_c"
   ]
  },
  {
   "cell_type": "code",
   "execution_count": 80,
   "id": "84f0d13c",
   "metadata": {},
   "outputs": [
    {
     "data": {
      "text/plain": [
       "45"
      ]
     },
     "execution_count": 80,
     "metadata": {},
     "output_type": "execute_result"
    }
   ],
   "source": [
    "sum_of_c = np.sum(c)\n",
    "sum_of_c"
   ]
  },
  {
   "cell_type": "code",
   "execution_count": 81,
   "id": "5c79bda7",
   "metadata": {},
   "outputs": [
    {
     "data": {
      "text/plain": [
       "362880"
      ]
     },
     "execution_count": 81,
     "metadata": {},
     "output_type": "execute_result"
    }
   ],
   "source": [
    "product_of_c = np.prod(c)\n",
    "product_of_c"
   ]
  },
  {
   "cell_type": "markdown",
   "id": "867a3786",
   "metadata": {},
   "source": [
    " Exercise 2 - Determine the standard deviation of c."
   ]
  },
  {
   "cell_type": "code",
   "execution_count": 82,
   "id": "832afe91",
   "metadata": {},
   "outputs": [
    {
     "data": {
      "text/plain": [
       "2.581988897471611"
      ]
     },
     "execution_count": 82,
     "metadata": {},
     "output_type": "execute_result"
    }
   ],
   "source": [
    "std_of_c = np.std(c)\n",
    "std_of_c"
   ]
  },
  {
   "cell_type": "markdown",
   "id": "efdc12a8",
   "metadata": {},
   "source": [
    "Exercise 3 - Determine the variance of c."
   ]
  },
  {
   "cell_type": "code",
   "execution_count": 83,
   "id": "404c3efb",
   "metadata": {},
   "outputs": [
    {
     "data": {
      "text/plain": [
       "6.666666666666667"
      ]
     },
     "execution_count": 83,
     "metadata": {},
     "output_type": "execute_result"
    }
   ],
   "source": [
    "var_of_c = np.var(c)\n",
    "var_of_c"
   ]
  },
  {
   "cell_type": "markdown",
   "id": "6dc717bb",
   "metadata": {},
   "source": [
    "Exercise 4 - Print out the shape of the array c"
   ]
  },
  {
   "cell_type": "code",
   "execution_count": 84,
   "id": "9162b030",
   "metadata": {},
   "outputs": [
    {
     "data": {
      "text/plain": [
       "(3, 3)"
      ]
     },
     "execution_count": 84,
     "metadata": {},
     "output_type": "execute_result"
    }
   ],
   "source": [
    "shape_of_c = np.shape(c)\n",
    "shape_of_c"
   ]
  },
  {
   "cell_type": "markdown",
   "id": "c29c3f2c",
   "metadata": {},
   "source": [
    "Exercise 5 - Transpose c and print out transposed result.\n"
   ]
  },
  {
   "cell_type": "code",
   "execution_count": 86,
   "id": "cb819ff6",
   "metadata": {},
   "outputs": [
    {
     "data": {
      "text/plain": [
       "array([[1, 4, 7],\n",
       "       [2, 5, 8],\n",
       "       [3, 6, 9]])"
      ]
     },
     "execution_count": 86,
     "metadata": {},
     "output_type": "execute_result"
    }
   ],
   "source": [
    "transpose_of_c = np.transpose(c)\n",
    "transpose_of_c"
   ]
  },
  {
   "cell_type": "markdown",
   "id": "f22a4f50",
   "metadata": {},
   "source": [
    "Exercise 6 - Get the dot product of the array c with c. "
   ]
  },
  {
   "cell_type": "code",
   "execution_count": 88,
   "id": "8f52a51a",
   "metadata": {},
   "outputs": [
    {
     "data": {
      "text/plain": [
       "array([[ 30,  36,  42],\n",
       "       [ 66,  81,  96],\n",
       "       [102, 126, 150]])"
      ]
     },
     "execution_count": 88,
     "metadata": {},
     "output_type": "execute_result"
    }
   ],
   "source": [
    "dot_product = np.dot(c,c)\n",
    "dot_product"
   ]
  },
  {
   "cell_type": "markdown",
   "id": "6adea7ca",
   "metadata": {},
   "source": [
    "Exercise 7 - Write the code necessary to sum up the result of c times c transposed. Answer should be 261\n"
   ]
  },
  {
   "cell_type": "code",
   "execution_count": 93,
   "id": "c9b85298",
   "metadata": {},
   "outputs": [
    {
     "data": {
      "text/plain": [
       "[[1, 2, 3], [4, 5, 6], [7, 8, 9]]"
      ]
     },
     "execution_count": 93,
     "metadata": {},
     "output_type": "execute_result"
    }
   ],
   "source": [
    "c"
   ]
  },
  {
   "cell_type": "code",
   "execution_count": 95,
   "id": "a3f3d203",
   "metadata": {},
   "outputs": [
    {
     "data": {
      "text/plain": [
       "261"
      ]
     },
     "execution_count": 95,
     "metadata": {},
     "output_type": "execute_result"
    }
   ],
   "source": [
    "result_c = np.sum(c * np.transpose(c))\n",
    "\n",
    "result_c"
   ]
  },
  {
   "cell_type": "markdown",
   "id": "699876e7",
   "metadata": {},
   "source": [
    "Exercise 8 - Write the code necessary to determine the product of c times c transposed. Answer should be 131681894400.\n"
   ]
  },
  {
   "cell_type": "code",
   "execution_count": 100,
   "id": "ea238584",
   "metadata": {},
   "outputs": [
    {
     "data": {
      "text/plain": [
       "131681894400"
      ]
     },
     "execution_count": 100,
     "metadata": {},
     "output_type": "execute_result"
    }
   ],
   "source": [
    "#np.multiply(c, np.transpose(c)) performs element-wise \n",
    "#multiplication between c and its transpose\n",
    "product = np.multiply(c, np.transpose(c))\n",
    "result = np.prod(product)\n",
    "result"
   ]
  },
  {
   "cell_type": "code",
   "execution_count": 133,
   "id": "e14f7197",
   "metadata": {},
   "outputs": [],
   "source": [
    "import numpy as np\n",
    "\n",
    "d = [\n",
    "    [90, 30, 45, 0, 120, 180],\n",
    "    [45, -90, -30, 270, 90, 0],\n",
    "    [60, 45, -45, 90, -45, 180]\n",
    "]"
   ]
  },
  {
   "cell_type": "markdown",
   "id": "cd82ecb5",
   "metadata": {},
   "source": [
    "Exercise 1 - Find the sine of all the numbers in d\n"
   ]
  },
  {
   "cell_type": "code",
   "execution_count": 103,
   "id": "cc1313ab",
   "metadata": {},
   "outputs": [
    {
     "data": {
      "text/plain": [
       "array([[ 0.89399666, -0.98803162,  0.85090352,  0.        ,  0.58061118,\n",
       "        -0.80115264],\n",
       "       [ 0.85090352, -0.89399666,  0.98803162, -0.17604595,  0.89399666,\n",
       "         0.        ],\n",
       "       [-0.30481062,  0.85090352, -0.85090352,  0.89399666, -0.85090352,\n",
       "        -0.80115264]])"
      ]
     },
     "execution_count": 103,
     "metadata": {},
     "output_type": "execute_result"
    }
   ],
   "source": [
    "sine_d = np.sin(d)\n",
    "sine_d"
   ]
  },
  {
   "cell_type": "markdown",
   "id": "a35f7908",
   "metadata": {},
   "source": [
    "Exercise 2 - Find the cosine of all the numbers in d"
   ]
  },
  {
   "cell_type": "code",
   "execution_count": 104,
   "id": "7c4bcc36",
   "metadata": {},
   "outputs": [
    {
     "data": {
      "text/plain": [
       "array([[-0.44807362,  0.15425145,  0.52532199,  1.        ,  0.81418097,\n",
       "        -0.59846007],\n",
       "       [ 0.52532199, -0.44807362,  0.15425145,  0.98438195, -0.44807362,\n",
       "         1.        ],\n",
       "       [-0.95241298,  0.52532199,  0.52532199, -0.44807362,  0.52532199,\n",
       "        -0.59846007]])"
      ]
     },
     "execution_count": 104,
     "metadata": {},
     "output_type": "execute_result"
    }
   ],
   "source": [
    "cosine_d = np.cos(d)\n",
    "cosine_d"
   ]
  },
  {
   "cell_type": "markdown",
   "id": "7f46f888",
   "metadata": {},
   "source": [
    "Exercise 3 - Find the tangent of all the numbers in d\n"
   ]
  },
  {
   "cell_type": "code",
   "execution_count": 108,
   "id": "4cd4c311",
   "metadata": {},
   "outputs": [
    {
     "data": {
      "text/plain": [
       "array([[-1.99520041, -6.4053312 ,  1.61977519,  0.        ,  0.71312301,\n",
       "         1.33869021],\n",
       "       [ 1.61977519,  1.99520041,  6.4053312 , -0.17883906, -1.99520041,\n",
       "         0.        ],\n",
       "       [ 0.32004039,  1.61977519, -1.61977519, -1.99520041, -1.61977519,\n",
       "         1.33869021]])"
      ]
     },
     "execution_count": 108,
     "metadata": {},
     "output_type": "execute_result"
    }
   ],
   "source": [
    "tangent_d = np.sin(d) / np.cos(d)\n",
    "tangent_d"
   ]
  },
  {
   "cell_type": "markdown",
   "id": "61ce4ee3",
   "metadata": {},
   "source": [
    "#Exercise 4 - Find all the negative numbers in d\n"
   ]
  },
  {
   "cell_type": "code",
   "execution_count": 113,
   "id": "17698ec4",
   "metadata": {},
   "outputs": [
    {
     "data": {
      "text/plain": [
       "array([-0.])"
      ]
     },
     "execution_count": 113,
     "metadata": {},
     "output_type": "execute_result"
    }
   ],
   "source": [
    "negative_d = np.negative([1. -1])\n",
    "negative_d"
   ]
  },
  {
   "cell_type": "code",
   "execution_count": 116,
   "id": "b64f28e0",
   "metadata": {},
   "outputs": [
    {
     "data": {
      "text/plain": [
       "array([-90, -30, -45, -45])"
      ]
     },
     "execution_count": 116,
     "metadata": {},
     "output_type": "execute_result"
    }
   ],
   "source": [
    "negative_numbers = np.array(d)[np.array(d) < 0]\n",
    "negative_numbers"
   ]
  },
  {
   "cell_type": "markdown",
   "id": "f0c2acfd",
   "metadata": {},
   "source": [
    "Exercise 5 - Find all the positive numbers in d\n"
   ]
  },
  {
   "cell_type": "code",
   "execution_count": 117,
   "id": "81539ac2",
   "metadata": {},
   "outputs": [
    {
     "data": {
      "text/plain": [
       "array([ 90,  30,  45, 120, 180,  45, 270,  90,  60,  45,  90, 180])"
      ]
     },
     "execution_count": 117,
     "metadata": {},
     "output_type": "execute_result"
    }
   ],
   "source": [
    "positive_numbers = np.array(d)[np.array(d)>0]\n",
    "positive_numbers"
   ]
  },
  {
   "cell_type": "markdown",
   "id": "46982157",
   "metadata": {},
   "source": [
    "Exercise 6 - Return an array of only the unique numbers in d.\n"
   ]
  },
  {
   "cell_type": "code",
   "execution_count": 118,
   "id": "22f0ca0a",
   "metadata": {},
   "outputs": [
    {
     "data": {
      "text/plain": [
       "array([-90, -45, -30,   0,  30,  45,  60,  90, 120, 180, 270])"
      ]
     },
     "execution_count": 118,
     "metadata": {},
     "output_type": "execute_result"
    }
   ],
   "source": [
    "unique_numbers = np.unique(d)\n",
    "unique_numbers"
   ]
  },
  {
   "cell_type": "markdown",
   "id": "384f0195",
   "metadata": {},
   "source": [
    "Exercise 7 - Determine how many unique numbers there are in d.\n"
   ]
  },
  {
   "cell_type": "code",
   "execution_count": 119,
   "id": "b8706d61",
   "metadata": {},
   "outputs": [
    {
     "data": {
      "text/plain": [
       "11"
      ]
     },
     "execution_count": 119,
     "metadata": {},
     "output_type": "execute_result"
    }
   ],
   "source": [
    "unique_numbers = np.unique(d)\n",
    "num_unique_numbers = unique_numbers.size\n",
    "num_unique_numbers\n"
   ]
  },
  {
   "cell_type": "markdown",
   "id": "448d17d4",
   "metadata": {},
   "source": [
    "Exercise 8 - Print out the shape of d.\n"
   ]
  },
  {
   "cell_type": "code",
   "execution_count": 135,
   "id": "52961f8d",
   "metadata": {},
   "outputs": [
    {
     "name": "stdout",
     "output_type": "stream",
     "text": [
      "(3, 6)\n"
     ]
    }
   ],
   "source": [
    "d_array = np.array(d)  \n",
    "print(d_array.shape)"
   ]
  },
  {
   "cell_type": "markdown",
   "id": "01537bb1",
   "metadata": {},
   "source": [
    "#Exercise 9 - Transpose and then print out the shape of d.\n"
   ]
  },
  {
   "cell_type": "code",
   "execution_count": 139,
   "id": "87c619f4",
   "metadata": {},
   "outputs": [
    {
     "data": {
      "text/plain": [
       "(6, 3)"
      ]
     },
     "execution_count": 139,
     "metadata": {},
     "output_type": "execute_result"
    }
   ],
   "source": [
    "np.shape(np.transpose(d))\n"
   ]
  },
  {
   "cell_type": "markdown",
   "id": "426d52b7",
   "metadata": {},
   "source": [
    "#Exercise 10 - Reshape d into an array of 9 x 2\n"
   ]
  },
  {
   "cell_type": "code",
   "execution_count": 144,
   "id": "d9b426c4",
   "metadata": {},
   "outputs": [
    {
     "data": {
      "text/plain": [
       "array([[ 90,  30],\n",
       "       [ 45,   0],\n",
       "       [120, 180],\n",
       "       [ 45, -90],\n",
       "       [-30, 270],\n",
       "       [ 90,   0],\n",
       "       [ 60,  45],\n",
       "       [-45,  90],\n",
       "       [-45, 180]])"
      ]
     },
     "execution_count": 144,
     "metadata": {},
     "output_type": "execute_result"
    }
   ],
   "source": [
    "np.reshape(d,(9,2))"
   ]
  },
  {
   "cell_type": "code",
   "execution_count": null,
   "id": "eb704d94",
   "metadata": {},
   "outputs": [],
   "source": []
  }
 ],
 "metadata": {
  "kernelspec": {
   "display_name": "Python 3 (ipykernel)",
   "language": "python",
   "name": "python3"
  },
  "language_info": {
   "codemirror_mode": {
    "name": "ipython",
    "version": 3
   },
   "file_extension": ".py",
   "mimetype": "text/x-python",
   "name": "python",
   "nbconvert_exporter": "python",
   "pygments_lexer": "ipython3",
   "version": "3.10.9"
  }
 },
 "nbformat": 4,
 "nbformat_minor": 5
}
